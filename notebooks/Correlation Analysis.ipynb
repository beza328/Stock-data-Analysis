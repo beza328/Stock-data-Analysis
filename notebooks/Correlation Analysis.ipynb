{
 "cells": [
  {
   "cell_type": "code",
   "execution_count": 2,
   "metadata": {},
   "outputs": [],
   "source": [
    "import pandas as pd\n",
    "import numpy as np\n",
    "from textblob import TextBlob"
   ]
  },
  {
   "cell_type": "code",
   "execution_count": 3,
   "metadata": {},
   "outputs": [],
   "source": [
    "news = pd.read_csv('raw_analyst_ratings.csv')"
   ]
  },
  {
   "cell_type": "code",
   "execution_count": 4,
   "metadata": {},
   "outputs": [],
   "source": [
    "news['date'] = pd.to_datetime(news['date'], errors='coerce', utc='True')"
   ]
  },
  {
   "cell_type": "code",
   "execution_count": 5,
   "metadata": {},
   "outputs": [],
   "source": [
    "recent_news= news[news['date'] >= '2020-01-01']"
   ]
  },
  {
   "cell_type": "code",
   "execution_count": 6,
   "metadata": {},
   "outputs": [
    {
     "data": {
      "text/html": [
       "<div>\n",
       "<style scoped>\n",
       "    .dataframe tbody tr th:only-of-type {\n",
       "        vertical-align: middle;\n",
       "    }\n",
       "\n",
       "    .dataframe tbody tr th {\n",
       "        vertical-align: top;\n",
       "    }\n",
       "\n",
       "    .dataframe thead th {\n",
       "        text-align: right;\n",
       "    }\n",
       "</style>\n",
       "<table border=\"1\" class=\"dataframe\">\n",
       "  <thead>\n",
       "    <tr style=\"text-align: right;\">\n",
       "      <th></th>\n",
       "      <th>Unnamed: 0</th>\n",
       "      <th>headline</th>\n",
       "      <th>url</th>\n",
       "      <th>publisher</th>\n",
       "      <th>date</th>\n",
       "      <th>stock</th>\n",
       "    </tr>\n",
       "  </thead>\n",
       "  <tbody>\n",
       "    <tr>\n",
       "      <th>0</th>\n",
       "      <td>0</td>\n",
       "      <td>Stocks That Hit 52-Week Highs On Friday</td>\n",
       "      <td>https://www.benzinga.com/news/20/06/16190091/s...</td>\n",
       "      <td>Benzinga Insights</td>\n",
       "      <td>2020-06-05 14:30:54+00:00</td>\n",
       "      <td>A</td>\n",
       "    </tr>\n",
       "    <tr>\n",
       "      <th>1</th>\n",
       "      <td>1</td>\n",
       "      <td>Stocks That Hit 52-Week Highs On Wednesday</td>\n",
       "      <td>https://www.benzinga.com/news/20/06/16170189/s...</td>\n",
       "      <td>Benzinga Insights</td>\n",
       "      <td>2020-06-03 14:45:20+00:00</td>\n",
       "      <td>A</td>\n",
       "    </tr>\n",
       "    <tr>\n",
       "      <th>2</th>\n",
       "      <td>2</td>\n",
       "      <td>71 Biggest Movers From Friday</td>\n",
       "      <td>https://www.benzinga.com/news/20/05/16103463/7...</td>\n",
       "      <td>Lisa Levin</td>\n",
       "      <td>2020-05-26 08:30:07+00:00</td>\n",
       "      <td>A</td>\n",
       "    </tr>\n",
       "    <tr>\n",
       "      <th>3</th>\n",
       "      <td>3</td>\n",
       "      <td>46 Stocks Moving In Friday's Mid-Day Session</td>\n",
       "      <td>https://www.benzinga.com/news/20/05/16095921/4...</td>\n",
       "      <td>Lisa Levin</td>\n",
       "      <td>2020-05-22 16:45:06+00:00</td>\n",
       "      <td>A</td>\n",
       "    </tr>\n",
       "    <tr>\n",
       "      <th>4</th>\n",
       "      <td>4</td>\n",
       "      <td>B of A Securities Maintains Neutral on Agilent...</td>\n",
       "      <td>https://www.benzinga.com/news/20/05/16095304/b...</td>\n",
       "      <td>Vick Meyer</td>\n",
       "      <td>2020-05-22 15:38:59+00:00</td>\n",
       "      <td>A</td>\n",
       "    </tr>\n",
       "  </tbody>\n",
       "</table>\n",
       "</div>"
      ],
      "text/plain": [
       "   Unnamed: 0                                           headline  \\\n",
       "0           0            Stocks That Hit 52-Week Highs On Friday   \n",
       "1           1         Stocks That Hit 52-Week Highs On Wednesday   \n",
       "2           2                      71 Biggest Movers From Friday   \n",
       "3           3       46 Stocks Moving In Friday's Mid-Day Session   \n",
       "4           4  B of A Securities Maintains Neutral on Agilent...   \n",
       "\n",
       "                                                 url          publisher  \\\n",
       "0  https://www.benzinga.com/news/20/06/16190091/s...  Benzinga Insights   \n",
       "1  https://www.benzinga.com/news/20/06/16170189/s...  Benzinga Insights   \n",
       "2  https://www.benzinga.com/news/20/05/16103463/7...         Lisa Levin   \n",
       "3  https://www.benzinga.com/news/20/05/16095921/4...         Lisa Levin   \n",
       "4  https://www.benzinga.com/news/20/05/16095304/b...         Vick Meyer   \n",
       "\n",
       "                       date stock  \n",
       "0 2020-06-05 14:30:54+00:00     A  \n",
       "1 2020-06-03 14:45:20+00:00     A  \n",
       "2 2020-05-26 08:30:07+00:00     A  \n",
       "3 2020-05-22 16:45:06+00:00     A  \n",
       "4 2020-05-22 15:38:59+00:00     A  "
      ]
     },
     "execution_count": 6,
     "metadata": {},
     "output_type": "execute_result"
    }
   ],
   "source": [
    "recent_news.head()"
   ]
  },
  {
   "cell_type": "code",
   "execution_count": 7,
   "metadata": {},
   "outputs": [],
   "source": [
    "aapl_ticker = recent_news[recent_news['stock'] == 'AAPL']"
   ]
  },
  {
   "cell_type": "code",
   "execution_count": 8,
   "metadata": {},
   "outputs": [
    {
     "data": {
      "text/html": [
       "<div>\n",
       "<style scoped>\n",
       "    .dataframe tbody tr th:only-of-type {\n",
       "        vertical-align: middle;\n",
       "    }\n",
       "\n",
       "    .dataframe tbody tr th {\n",
       "        vertical-align: top;\n",
       "    }\n",
       "\n",
       "    .dataframe thead th {\n",
       "        text-align: right;\n",
       "    }\n",
       "</style>\n",
       "<table border=\"1\" class=\"dataframe\">\n",
       "  <thead>\n",
       "    <tr style=\"text-align: right;\">\n",
       "      <th></th>\n",
       "      <th>Unnamed: 0</th>\n",
       "      <th>headline</th>\n",
       "      <th>url</th>\n",
       "      <th>publisher</th>\n",
       "      <th>date</th>\n",
       "      <th>stock</th>\n",
       "    </tr>\n",
       "  </thead>\n",
       "  <tbody>\n",
       "    <tr>\n",
       "      <th>6680</th>\n",
       "      <td>7120</td>\n",
       "      <td>Tech Stocks And FAANGS Strong Again To Start D...</td>\n",
       "      <td>https://www.benzinga.com/government/20/06/1622...</td>\n",
       "      <td>JJ Kinahan</td>\n",
       "      <td>2020-06-10 15:33:26+00:00</td>\n",
       "      <td>AAPL</td>\n",
       "    </tr>\n",
       "    <tr>\n",
       "      <th>6681</th>\n",
       "      <td>7121</td>\n",
       "      <td>10 Biggest Price Target Changes For Wednesday</td>\n",
       "      <td>https://www.benzinga.com/analyst-ratings/price...</td>\n",
       "      <td>Lisa Levin</td>\n",
       "      <td>2020-06-10 12:14:08+00:00</td>\n",
       "      <td>AAPL</td>\n",
       "    </tr>\n",
       "    <tr>\n",
       "      <th>6682</th>\n",
       "      <td>7122</td>\n",
       "      <td>Benzinga Pro's Top 5 Stocks To Watch For Wed.,...</td>\n",
       "      <td>https://www.benzinga.com/short-sellers/20/06/1...</td>\n",
       "      <td>Benzinga Newsdesk</td>\n",
       "      <td>2020-06-10 11:53:47+00:00</td>\n",
       "      <td>AAPL</td>\n",
       "    </tr>\n",
       "    <tr>\n",
       "      <th>6683</th>\n",
       "      <td>7123</td>\n",
       "      <td>Deutsche Bank Maintains Buy on Apple, Raises P...</td>\n",
       "      <td>https://www.benzinga.com/news/20/06/16219873/d...</td>\n",
       "      <td>Benzinga Newsdesk</td>\n",
       "      <td>2020-06-10 11:19:25+00:00</td>\n",
       "      <td>AAPL</td>\n",
       "    </tr>\n",
       "    <tr>\n",
       "      <th>6684</th>\n",
       "      <td>7124</td>\n",
       "      <td>Apple To Let Users Trade In Their Mac Computer...</td>\n",
       "      <td>https://www.benzinga.com/news/20/06/16218697/a...</td>\n",
       "      <td>Neer Varshney</td>\n",
       "      <td>2020-06-10 10:27:11+00:00</td>\n",
       "      <td>AAPL</td>\n",
       "    </tr>\n",
       "  </tbody>\n",
       "</table>\n",
       "</div>"
      ],
      "text/plain": [
       "      Unnamed: 0                                           headline  \\\n",
       "6680        7120  Tech Stocks And FAANGS Strong Again To Start D...   \n",
       "6681        7121      10 Biggest Price Target Changes For Wednesday   \n",
       "6682        7122  Benzinga Pro's Top 5 Stocks To Watch For Wed.,...   \n",
       "6683        7123  Deutsche Bank Maintains Buy on Apple, Raises P...   \n",
       "6684        7124  Apple To Let Users Trade In Their Mac Computer...   \n",
       "\n",
       "                                                    url          publisher  \\\n",
       "6680  https://www.benzinga.com/government/20/06/1622...         JJ Kinahan   \n",
       "6681  https://www.benzinga.com/analyst-ratings/price...         Lisa Levin   \n",
       "6682  https://www.benzinga.com/short-sellers/20/06/1...  Benzinga Newsdesk   \n",
       "6683  https://www.benzinga.com/news/20/06/16219873/d...  Benzinga Newsdesk   \n",
       "6684  https://www.benzinga.com/news/20/06/16218697/a...      Neer Varshney   \n",
       "\n",
       "                          date stock  \n",
       "6680 2020-06-10 15:33:26+00:00  AAPL  \n",
       "6681 2020-06-10 12:14:08+00:00  AAPL  \n",
       "6682 2020-06-10 11:53:47+00:00  AAPL  \n",
       "6683 2020-06-10 11:19:25+00:00  AAPL  \n",
       "6684 2020-06-10 10:27:11+00:00  AAPL  "
      ]
     },
     "execution_count": 8,
     "metadata": {},
     "output_type": "execute_result"
    }
   ],
   "source": [
    "aapl_ticker.head()"
   ]
  },
  {
   "cell_type": "code",
   "execution_count": 9,
   "metadata": {},
   "outputs": [],
   "source": [
    "amzn_ticker = recent_news[recent_news['stock'] == 'AMZN']"
   ]
  },
  {
   "cell_type": "code",
   "execution_count": 10,
   "metadata": {},
   "outputs": [
    {
     "data": {
      "text/html": [
       "<div>\n",
       "<style scoped>\n",
       "    .dataframe tbody tr th:only-of-type {\n",
       "        vertical-align: middle;\n",
       "    }\n",
       "\n",
       "    .dataframe tbody tr th {\n",
       "        vertical-align: top;\n",
       "    }\n",
       "\n",
       "    .dataframe thead th {\n",
       "        text-align: right;\n",
       "    }\n",
       "</style>\n",
       "<table border=\"1\" class=\"dataframe\">\n",
       "  <thead>\n",
       "    <tr style=\"text-align: right;\">\n",
       "      <th></th>\n",
       "      <th>Unnamed: 0</th>\n",
       "      <th>headline</th>\n",
       "      <th>url</th>\n",
       "      <th>publisher</th>\n",
       "      <th>date</th>\n",
       "      <th>stock</th>\n",
       "    </tr>\n",
       "  </thead>\n",
       "  <tbody>\n",
       "    <tr>\n",
       "      <th>76177</th>\n",
       "      <td>76869</td>\n",
       "      <td>How Cannabis Company Cannaphyll Is Marketing O...</td>\n",
       "      <td>https://www.benzinga.com/markets/cannabis/20/0...</td>\n",
       "      <td>Jaycee Tenn</td>\n",
       "      <td>2020-06-10 17:18:50+00:00</td>\n",
       "      <td>AMZN</td>\n",
       "    </tr>\n",
       "    <tr>\n",
       "      <th>76178</th>\n",
       "      <td>76870</td>\n",
       "      <td>Tech Stocks And FAANGS Strong Again To Start D...</td>\n",
       "      <td>https://www.benzinga.com/government/20/06/1622...</td>\n",
       "      <td>JJ Kinahan</td>\n",
       "      <td>2020-06-10 15:33:26+00:00</td>\n",
       "      <td>AMZN</td>\n",
       "    </tr>\n",
       "    <tr>\n",
       "      <th>76179</th>\n",
       "      <td>76871</td>\n",
       "      <td>Benzinga Pro's Top 5 Stocks To Watch For Wed.,...</td>\n",
       "      <td>https://www.benzinga.com/short-sellers/20/06/1...</td>\n",
       "      <td>Benzinga Newsdesk</td>\n",
       "      <td>2020-06-10 11:53:47+00:00</td>\n",
       "      <td>AMZN</td>\n",
       "    </tr>\n",
       "    <tr>\n",
       "      <th>76180</th>\n",
       "      <td>76872</td>\n",
       "      <td>Hearing Vertical Group Out Positive On Amazon,...</td>\n",
       "      <td>https://www.benzinga.com/analyst-ratings/analy...</td>\n",
       "      <td>Benzinga Newsdesk</td>\n",
       "      <td>2020-06-10 11:20:03+00:00</td>\n",
       "      <td>AMZN</td>\n",
       "    </tr>\n",
       "    <tr>\n",
       "      <th>76181</th>\n",
       "      <td>76873</td>\n",
       "      <td>Big Tech Reaches New Record Heights At The Sto...</td>\n",
       "      <td>https://www.benzinga.com/news/20/06/16218615/b...</td>\n",
       "      <td>Neer Varshney</td>\n",
       "      <td>2020-06-10 04:52:01+00:00</td>\n",
       "      <td>AMZN</td>\n",
       "    </tr>\n",
       "  </tbody>\n",
       "</table>\n",
       "</div>"
      ],
      "text/plain": [
       "       Unnamed: 0                                           headline  \\\n",
       "76177       76869  How Cannabis Company Cannaphyll Is Marketing O...   \n",
       "76178       76870  Tech Stocks And FAANGS Strong Again To Start D...   \n",
       "76179       76871  Benzinga Pro's Top 5 Stocks To Watch For Wed.,...   \n",
       "76180       76872  Hearing Vertical Group Out Positive On Amazon,...   \n",
       "76181       76873  Big Tech Reaches New Record Heights At The Sto...   \n",
       "\n",
       "                                                     url          publisher  \\\n",
       "76177  https://www.benzinga.com/markets/cannabis/20/0...        Jaycee Tenn   \n",
       "76178  https://www.benzinga.com/government/20/06/1622...         JJ Kinahan   \n",
       "76179  https://www.benzinga.com/short-sellers/20/06/1...  Benzinga Newsdesk   \n",
       "76180  https://www.benzinga.com/analyst-ratings/analy...  Benzinga Newsdesk   \n",
       "76181  https://www.benzinga.com/news/20/06/16218615/b...      Neer Varshney   \n",
       "\n",
       "                           date stock  \n",
       "76177 2020-06-10 17:18:50+00:00  AMZN  \n",
       "76178 2020-06-10 15:33:26+00:00  AMZN  \n",
       "76179 2020-06-10 11:53:47+00:00  AMZN  \n",
       "76180 2020-06-10 11:20:03+00:00  AMZN  \n",
       "76181 2020-06-10 04:52:01+00:00  AMZN  "
      ]
     },
     "execution_count": 10,
     "metadata": {},
     "output_type": "execute_result"
    }
   ],
   "source": [
    "amzn_ticker.head()"
   ]
  },
  {
   "cell_type": "code",
   "execution_count": 11,
   "metadata": {},
   "outputs": [],
   "source": [
    "goog_ticker = recent_news[recent_news['stock'] == 'GOOG']"
   ]
  },
  {
   "cell_type": "code",
   "execution_count": 12,
   "metadata": {},
   "outputs": [],
   "source": [
    "nvda_ticker = recent_news[recent_news['stock'] == 'NVDA']"
   ]
  },
  {
   "cell_type": "code",
   "execution_count": 13,
   "metadata": {},
   "outputs": [],
   "source": [
    "tsla_ticker = recent_news[recent_news['stock'] == 'TSLA']"
   ]
  },
  {
   "cell_type": "code",
   "execution_count": 14,
   "metadata": {},
   "outputs": [
    {
     "data": {
      "text/html": [
       "<div>\n",
       "<style scoped>\n",
       "    .dataframe tbody tr th:only-of-type {\n",
       "        vertical-align: middle;\n",
       "    }\n",
       "\n",
       "    .dataframe tbody tr th {\n",
       "        vertical-align: top;\n",
       "    }\n",
       "\n",
       "    .dataframe thead th {\n",
       "        text-align: right;\n",
       "    }\n",
       "</style>\n",
       "<table border=\"1\" class=\"dataframe\">\n",
       "  <thead>\n",
       "    <tr style=\"text-align: right;\">\n",
       "      <th></th>\n",
       "      <th>Unnamed: 0</th>\n",
       "      <th>headline</th>\n",
       "      <th>url</th>\n",
       "      <th>publisher</th>\n",
       "      <th>date</th>\n",
       "      <th>stock</th>\n",
       "    </tr>\n",
       "  </thead>\n",
       "  <tbody>\n",
       "    <tr>\n",
       "      <th>1255221</th>\n",
       "      <td>1261140</td>\n",
       "      <td>Tesla's Stock Closes At All-Time High As Musk ...</td>\n",
       "      <td>https://www.benzinga.com/news/20/06/16225150/t...</td>\n",
       "      <td>Drew Levine</td>\n",
       "      <td>2020-06-10 21:02:47+00:00</td>\n",
       "      <td>TSLA</td>\n",
       "    </tr>\n",
       "    <tr>\n",
       "      <th>1255222</th>\n",
       "      <td>1261141</td>\n",
       "      <td>'Tesla factory workplace safety is 5% better t...</td>\n",
       "      <td>https://www.benzinga.com/news/20/06/16225621/t...</td>\n",
       "      <td>Benzinga Newsdesk</td>\n",
       "      <td>2020-06-10 19:08:09+00:00</td>\n",
       "      <td>TSLA</td>\n",
       "    </tr>\n",
       "    <tr>\n",
       "      <th>1255223</th>\n",
       "      <td>1261142</td>\n",
       "      <td>'Tesla hacker unlocks Performance upgrade and ...</td>\n",
       "      <td>https://www.benzinga.com/news/20/06/16224205/t...</td>\n",
       "      <td>Benzinga Newsdesk</td>\n",
       "      <td>2020-06-10 16:41:58+00:00</td>\n",
       "      <td>TSLA</td>\n",
       "    </tr>\n",
       "    <tr>\n",
       "      <th>1255224</th>\n",
       "      <td>1261143</td>\n",
       "      <td>GM On Track To Spend $20B On EV And AV Develop...</td>\n",
       "      <td>https://www.benzinga.com/news/20/06/16223414/g...</td>\n",
       "      <td>Benzinga Newsdesk</td>\n",
       "      <td>2020-06-10 15:33:18+00:00</td>\n",
       "      <td>TSLA</td>\n",
       "    </tr>\n",
       "    <tr>\n",
       "      <th>1255225</th>\n",
       "      <td>1261144</td>\n",
       "      <td>Tesla's Journey To $1,000 In 2020</td>\n",
       "      <td>https://www.benzinga.com/news/20/06/16222035/t...</td>\n",
       "      <td>Wayne Duggan</td>\n",
       "      <td>2020-06-10 14:15:07+00:00</td>\n",
       "      <td>TSLA</td>\n",
       "    </tr>\n",
       "  </tbody>\n",
       "</table>\n",
       "</div>"
      ],
      "text/plain": [
       "         Unnamed: 0                                           headline  \\\n",
       "1255221     1261140  Tesla's Stock Closes At All-Time High As Musk ...   \n",
       "1255222     1261141  'Tesla factory workplace safety is 5% better t...   \n",
       "1255223     1261142  'Tesla hacker unlocks Performance upgrade and ...   \n",
       "1255224     1261143  GM On Track To Spend $20B On EV And AV Develop...   \n",
       "1255225     1261144                  Tesla's Journey To $1,000 In 2020   \n",
       "\n",
       "                                                       url          publisher  \\\n",
       "1255221  https://www.benzinga.com/news/20/06/16225150/t...        Drew Levine   \n",
       "1255222  https://www.benzinga.com/news/20/06/16225621/t...  Benzinga Newsdesk   \n",
       "1255223  https://www.benzinga.com/news/20/06/16224205/t...  Benzinga Newsdesk   \n",
       "1255224  https://www.benzinga.com/news/20/06/16223414/g...  Benzinga Newsdesk   \n",
       "1255225  https://www.benzinga.com/news/20/06/16222035/t...       Wayne Duggan   \n",
       "\n",
       "                             date stock  \n",
       "1255221 2020-06-10 21:02:47+00:00  TSLA  \n",
       "1255222 2020-06-10 19:08:09+00:00  TSLA  \n",
       "1255223 2020-06-10 16:41:58+00:00  TSLA  \n",
       "1255224 2020-06-10 15:33:18+00:00  TSLA  \n",
       "1255225 2020-06-10 14:15:07+00:00  TSLA  "
      ]
     },
     "execution_count": 14,
     "metadata": {},
     "output_type": "execute_result"
    }
   ],
   "source": [
    "tsla_ticker.head()"
   ]
  },
  {
   "cell_type": "markdown",
   "metadata": {},
   "source": [
    "From the Eda analysis the MSFT and META Stock ticker absent from the data set given so I will continue with theabove 5 stock tickers"
   ]
  },
  {
   "cell_type": "code",
   "execution_count": 15,
   "metadata": {},
   "outputs": [],
   "source": [
    "apple_news = aapl_ticker[['headline', 'date']]\n",
    "amzn_news = amzn_ticker[['headline', 'date']]\n",
    "nvda_news = nvda_ticker[['headline', 'date']]\n",
    "tsla_news = tsla_ticker[['headline', 'date']]\n",
    "goog_news = goog_ticker[['headline', 'date']]"
   ]
  },
  {
   "cell_type": "code",
   "execution_count": 16,
   "metadata": {},
   "outputs": [
    {
     "name": "stdout",
     "output_type": "stream",
     "text": [
      "                                               headline  Sentiment\n",
      "6680  Tech Stocks And FAANGS Strong Again To Start D...   0.433333\n",
      "6681      10 Biggest Price Target Changes For Wednesday   0.000000\n",
      "6682  Benzinga Pro's Top 5 Stocks To Watch For Wed.,...   0.500000\n",
      "6683  Deutsche Bank Maintains Buy on Apple, Raises P...   0.000000\n",
      "6684  Apple To Let Users Trade In Their Mac Computer...   0.000000\n",
      "6685  Big Tech Reaches New Record Heights At The Sto...   0.068182\n",
      "6686          Why Apple's Stock Is Trading Higher Today   0.250000\n",
      "6687  Apple Could Announce In-House Chips For Macs A...   0.000000\n",
      "6688  Apple shares are trading higher despite market...   0.050000\n",
      "6689  Sonos Shares Spike To Session High, Now Up 9.5...   0.053333\n"
     ]
    },
    {
     "name": "stderr",
     "output_type": "stream",
     "text": [
      "C:\\Users\\mama\\AppData\\Local\\Temp\\ipykernel_11760\\797895496.py:5: SettingWithCopyWarning: \n",
      "A value is trying to be set on a copy of a slice from a DataFrame.\n",
      "Try using .loc[row_indexer,col_indexer] = value instead\n",
      "\n",
      "See the caveats in the documentation: https://pandas.pydata.org/pandas-docs/stable/user_guide/indexing.html#returning-a-view-versus-a-copy\n",
      "  apple_news['Sentiment'] = apple_news['headline'].apply(calculate_sentiment)\n"
     ]
    }
   ],
   "source": [
    "def calculate_sentiment(text):\n",
    "    return TextBlob(text).sentiment.polarity\n",
    "\n",
    "# Applying the sentiment analysis function to your headlines\n",
    "apple_news['Sentiment'] = apple_news['headline'].apply(calculate_sentiment)\n",
    "\n",
    "print(apple_news[['headline', 'Sentiment']])"
   ]
  },
  {
   "cell_type": "markdown",
   "metadata": {},
   "source": [
    "Although the sentiment result has thousands of rows I can group by dates to calculate the mean sentiment score"
   ]
  },
  {
   "cell_type": "code",
   "execution_count": 17,
   "metadata": {},
   "outputs": [
    {
     "name": "stdout",
     "output_type": "stream",
     "text": [
      "                       date  Sentiment\n",
      "0 2020-06-09 15:11:34+00:00   0.053333\n",
      "1 2020-06-09 16:41:02+00:00   0.050000\n",
      "2 2020-06-09 17:58:46+00:00   0.000000\n",
      "3 2020-06-09 19:14:07+00:00   0.250000\n",
      "4 2020-06-10 04:52:01+00:00   0.068182\n",
      "5 2020-06-10 10:27:11+00:00   0.000000\n",
      "6 2020-06-10 11:19:25+00:00   0.000000\n",
      "7 2020-06-10 11:53:47+00:00   0.500000\n",
      "8 2020-06-10 12:14:08+00:00   0.000000\n",
      "9 2020-06-10 15:33:26+00:00   0.433333\n"
     ]
    }
   ],
   "source": [
    "Average_sentiment = apple_news.groupby('date')['Sentiment'].mean().reset_index()\n",
    "\n",
    "# Display the sentiment scores for each stock ticker\n",
    "print(Average_sentiment)"
   ]
  },
  {
   "cell_type": "code",
   "execution_count": 18,
   "metadata": {},
   "outputs": [
    {
     "ename": "NameError",
     "evalue": "name 'news_filtered' is not defined",
     "output_type": "error",
     "traceback": [
      "\u001b[1;31m---------------------------------------------------------------------------\u001b[0m",
      "\u001b[1;31mNameError\u001b[0m                                 Traceback (most recent call last)",
      "Cell \u001b[1;32mIn[18], line 1\u001b[0m\n\u001b[1;32m----> 1\u001b[0m \u001b[39mprint\u001b[39m(news_filtered[[\u001b[39m'\u001b[39m\u001b[39mstock\u001b[39m\u001b[39m'\u001b[39m, \u001b[39m'\u001b[39m\u001b[39mheadline\u001b[39m\u001b[39m'\u001b[39m, \u001b[39m'\u001b[39m\u001b[39mSentiment\u001b[39m\u001b[39m'\u001b[39m]])\n\u001b[0;32m      2\u001b[0m \u001b[39m# Aligning sentiment scores with the stock closing prices on the same date\u001b[39;00m\n\u001b[0;32m      3\u001b[0m combined_data \u001b[39m=\u001b[39m text_data\u001b[39m.\u001b[39mset_index(\u001b[39m'\u001b[39m\u001b[39mDate\u001b[39m\u001b[39m'\u001b[39m)\u001b[39m.\u001b[39mjoin(aapl_data[\u001b[39m'\u001b[39m\u001b[39mClose\u001b[39m\u001b[39m'\u001b[39m])\n",
      "\u001b[1;31mNameError\u001b[0m: name 'news_filtered' is not defined"
     ]
    }
   ],
   "source": [
    "print(news_filtered[['stock', 'headline', 'Sentiment']])\n",
    "# Aligning sentiment scores with the stock closing prices on the same date\n",
    "combined_data = text_data.set_index('Date').join(aapl_data['Close'])\n",
    "combined_data.head()"
   ]
  }
 ],
 "metadata": {
  "kernelspec": {
   "display_name": "Python 3.12.4 ('.venv': venv)",
   "language": "python",
   "name": "python3"
  },
  "language_info": {
   "codemirror_mode": {
    "name": "ipython",
    "version": 3
   },
   "file_extension": ".py",
   "mimetype": "text/x-python",
   "name": "python",
   "nbconvert_exporter": "python",
   "pygments_lexer": "ipython3",
   "version": "3.12.4"
  },
  "orig_nbformat": 4,
  "vscode": {
   "interpreter": {
    "hash": "4b665e8d54755420553c7c6eadedfaa47949b542ea4905a7c87686ea56dd7282"
   }
  }
 },
 "nbformat": 4,
 "nbformat_minor": 2
}
