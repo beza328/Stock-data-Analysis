{
 "cells": [
  {
   "cell_type": "code",
   "execution_count": 226,
   "metadata": {},
   "outputs": [],
   "source": [
    "import pandas as pd\n",
    "import numpy as np\n",
    "from textblob import TextBlob"
   ]
  },
  {
   "cell_type": "code",
   "execution_count": 227,
   "metadata": {},
   "outputs": [],
   "source": [
    "Apple= pd.read_csv('AAPL_historical_data.csv')"
   ]
  },
  {
   "cell_type": "code",
   "execution_count": 228,
   "metadata": {},
   "outputs": [],
   "source": [
    "Apple.rename(columns={'Date': 'date'}, inplace=True)"
   ]
  },
  {
   "cell_type": "code",
   "execution_count": 229,
   "metadata": {},
   "outputs": [],
   "source": [
    "news = pd.read_csv('raw_analyst_ratings.csv')"
   ]
  },
  {
   "cell_type": "code",
   "execution_count": 230,
   "metadata": {},
   "outputs": [],
   "source": [
    "#news['date'] = pd.to_datetime(news['date'], errors='coerce', utc='True')"
   ]
  },
  {
   "cell_type": "code",
   "execution_count": 231,
   "metadata": {},
   "outputs": [],
   "source": [
    "recent_news= news[news['date'] >= '2020-01-01']"
   ]
  },
  {
   "cell_type": "code",
   "execution_count": 232,
   "metadata": {},
   "outputs": [
    {
     "data": {
      "text/html": [
       "<div>\n",
       "<style scoped>\n",
       "    .dataframe tbody tr th:only-of-type {\n",
       "        vertical-align: middle;\n",
       "    }\n",
       "\n",
       "    .dataframe tbody tr th {\n",
       "        vertical-align: top;\n",
       "    }\n",
       "\n",
       "    .dataframe thead th {\n",
       "        text-align: right;\n",
       "    }\n",
       "</style>\n",
       "<table border=\"1\" class=\"dataframe\">\n",
       "  <thead>\n",
       "    <tr style=\"text-align: right;\">\n",
       "      <th></th>\n",
       "      <th>Unnamed: 0</th>\n",
       "      <th>headline</th>\n",
       "      <th>url</th>\n",
       "      <th>publisher</th>\n",
       "      <th>date</th>\n",
       "      <th>stock</th>\n",
       "    </tr>\n",
       "  </thead>\n",
       "  <tbody>\n",
       "    <tr>\n",
       "      <th>0</th>\n",
       "      <td>0</td>\n",
       "      <td>Stocks That Hit 52-Week Highs On Friday</td>\n",
       "      <td>https://www.benzinga.com/news/20/06/16190091/s...</td>\n",
       "      <td>Benzinga Insights</td>\n",
       "      <td>2020-06-05 10:30:54-04:00</td>\n",
       "      <td>A</td>\n",
       "    </tr>\n",
       "    <tr>\n",
       "      <th>1</th>\n",
       "      <td>1</td>\n",
       "      <td>Stocks That Hit 52-Week Highs On Wednesday</td>\n",
       "      <td>https://www.benzinga.com/news/20/06/16170189/s...</td>\n",
       "      <td>Benzinga Insights</td>\n",
       "      <td>2020-06-03 10:45:20-04:00</td>\n",
       "      <td>A</td>\n",
       "    </tr>\n",
       "    <tr>\n",
       "      <th>2</th>\n",
       "      <td>2</td>\n",
       "      <td>71 Biggest Movers From Friday</td>\n",
       "      <td>https://www.benzinga.com/news/20/05/16103463/7...</td>\n",
       "      <td>Lisa Levin</td>\n",
       "      <td>2020-05-26 04:30:07-04:00</td>\n",
       "      <td>A</td>\n",
       "    </tr>\n",
       "    <tr>\n",
       "      <th>3</th>\n",
       "      <td>3</td>\n",
       "      <td>46 Stocks Moving In Friday's Mid-Day Session</td>\n",
       "      <td>https://www.benzinga.com/news/20/05/16095921/4...</td>\n",
       "      <td>Lisa Levin</td>\n",
       "      <td>2020-05-22 12:45:06-04:00</td>\n",
       "      <td>A</td>\n",
       "    </tr>\n",
       "    <tr>\n",
       "      <th>4</th>\n",
       "      <td>4</td>\n",
       "      <td>B of A Securities Maintains Neutral on Agilent...</td>\n",
       "      <td>https://www.benzinga.com/news/20/05/16095304/b...</td>\n",
       "      <td>Vick Meyer</td>\n",
       "      <td>2020-05-22 11:38:59-04:00</td>\n",
       "      <td>A</td>\n",
       "    </tr>\n",
       "  </tbody>\n",
       "</table>\n",
       "</div>"
      ],
      "text/plain": [
       "   Unnamed: 0                                           headline  \\\n",
       "0           0            Stocks That Hit 52-Week Highs On Friday   \n",
       "1           1         Stocks That Hit 52-Week Highs On Wednesday   \n",
       "2           2                      71 Biggest Movers From Friday   \n",
       "3           3       46 Stocks Moving In Friday's Mid-Day Session   \n",
       "4           4  B of A Securities Maintains Neutral on Agilent...   \n",
       "\n",
       "                                                 url          publisher  \\\n",
       "0  https://www.benzinga.com/news/20/06/16190091/s...  Benzinga Insights   \n",
       "1  https://www.benzinga.com/news/20/06/16170189/s...  Benzinga Insights   \n",
       "2  https://www.benzinga.com/news/20/05/16103463/7...         Lisa Levin   \n",
       "3  https://www.benzinga.com/news/20/05/16095921/4...         Lisa Levin   \n",
       "4  https://www.benzinga.com/news/20/05/16095304/b...         Vick Meyer   \n",
       "\n",
       "                        date stock  \n",
       "0  2020-06-05 10:30:54-04:00     A  \n",
       "1  2020-06-03 10:45:20-04:00     A  \n",
       "2  2020-05-26 04:30:07-04:00     A  \n",
       "3  2020-05-22 12:45:06-04:00     A  \n",
       "4  2020-05-22 11:38:59-04:00     A  "
      ]
     },
     "execution_count": 232,
     "metadata": {},
     "output_type": "execute_result"
    }
   ],
   "source": [
    "recent_news.head()"
   ]
  },
  {
   "cell_type": "code",
   "execution_count": 233,
   "metadata": {},
   "outputs": [],
   "source": [
    "aapl_ticker = recent_news[recent_news['stock'] == 'AAPL']"
   ]
  },
  {
   "cell_type": "code",
   "execution_count": 234,
   "metadata": {},
   "outputs": [
    {
     "data": {
      "text/html": [
       "<div>\n",
       "<style scoped>\n",
       "    .dataframe tbody tr th:only-of-type {\n",
       "        vertical-align: middle;\n",
       "    }\n",
       "\n",
       "    .dataframe tbody tr th {\n",
       "        vertical-align: top;\n",
       "    }\n",
       "\n",
       "    .dataframe thead th {\n",
       "        text-align: right;\n",
       "    }\n",
       "</style>\n",
       "<table border=\"1\" class=\"dataframe\">\n",
       "  <thead>\n",
       "    <tr style=\"text-align: right;\">\n",
       "      <th></th>\n",
       "      <th>Unnamed: 0</th>\n",
       "      <th>headline</th>\n",
       "      <th>url</th>\n",
       "      <th>publisher</th>\n",
       "      <th>date</th>\n",
       "      <th>stock</th>\n",
       "    </tr>\n",
       "  </thead>\n",
       "  <tbody>\n",
       "    <tr>\n",
       "      <th>6680</th>\n",
       "      <td>7120</td>\n",
       "      <td>Tech Stocks And FAANGS Strong Again To Start D...</td>\n",
       "      <td>https://www.benzinga.com/government/20/06/1622...</td>\n",
       "      <td>JJ Kinahan</td>\n",
       "      <td>2020-06-10 11:33:26-04:00</td>\n",
       "      <td>AAPL</td>\n",
       "    </tr>\n",
       "    <tr>\n",
       "      <th>6681</th>\n",
       "      <td>7121</td>\n",
       "      <td>10 Biggest Price Target Changes For Wednesday</td>\n",
       "      <td>https://www.benzinga.com/analyst-ratings/price...</td>\n",
       "      <td>Lisa Levin</td>\n",
       "      <td>2020-06-10 08:14:08-04:00</td>\n",
       "      <td>AAPL</td>\n",
       "    </tr>\n",
       "    <tr>\n",
       "      <th>6682</th>\n",
       "      <td>7122</td>\n",
       "      <td>Benzinga Pro's Top 5 Stocks To Watch For Wed.,...</td>\n",
       "      <td>https://www.benzinga.com/short-sellers/20/06/1...</td>\n",
       "      <td>Benzinga Newsdesk</td>\n",
       "      <td>2020-06-10 07:53:47-04:00</td>\n",
       "      <td>AAPL</td>\n",
       "    </tr>\n",
       "    <tr>\n",
       "      <th>6683</th>\n",
       "      <td>7123</td>\n",
       "      <td>Deutsche Bank Maintains Buy on Apple, Raises P...</td>\n",
       "      <td>https://www.benzinga.com/news/20/06/16219873/d...</td>\n",
       "      <td>Benzinga Newsdesk</td>\n",
       "      <td>2020-06-10 07:19:25-04:00</td>\n",
       "      <td>AAPL</td>\n",
       "    </tr>\n",
       "    <tr>\n",
       "      <th>6684</th>\n",
       "      <td>7124</td>\n",
       "      <td>Apple To Let Users Trade In Their Mac Computer...</td>\n",
       "      <td>https://www.benzinga.com/news/20/06/16218697/a...</td>\n",
       "      <td>Neer Varshney</td>\n",
       "      <td>2020-06-10 06:27:11-04:00</td>\n",
       "      <td>AAPL</td>\n",
       "    </tr>\n",
       "  </tbody>\n",
       "</table>\n",
       "</div>"
      ],
      "text/plain": [
       "      Unnamed: 0                                           headline  \\\n",
       "6680        7120  Tech Stocks And FAANGS Strong Again To Start D...   \n",
       "6681        7121      10 Biggest Price Target Changes For Wednesday   \n",
       "6682        7122  Benzinga Pro's Top 5 Stocks To Watch For Wed.,...   \n",
       "6683        7123  Deutsche Bank Maintains Buy on Apple, Raises P...   \n",
       "6684        7124  Apple To Let Users Trade In Their Mac Computer...   \n",
       "\n",
       "                                                    url          publisher  \\\n",
       "6680  https://www.benzinga.com/government/20/06/1622...         JJ Kinahan   \n",
       "6681  https://www.benzinga.com/analyst-ratings/price...         Lisa Levin   \n",
       "6682  https://www.benzinga.com/short-sellers/20/06/1...  Benzinga Newsdesk   \n",
       "6683  https://www.benzinga.com/news/20/06/16219873/d...  Benzinga Newsdesk   \n",
       "6684  https://www.benzinga.com/news/20/06/16218697/a...      Neer Varshney   \n",
       "\n",
       "                           date stock  \n",
       "6680  2020-06-10 11:33:26-04:00  AAPL  \n",
       "6681  2020-06-10 08:14:08-04:00  AAPL  \n",
       "6682  2020-06-10 07:53:47-04:00  AAPL  \n",
       "6683  2020-06-10 07:19:25-04:00  AAPL  \n",
       "6684  2020-06-10 06:27:11-04:00  AAPL  "
      ]
     },
     "execution_count": 234,
     "metadata": {},
     "output_type": "execute_result"
    }
   ],
   "source": [
    "aapl_ticker.head()"
   ]
  },
  {
   "cell_type": "code",
   "execution_count": 235,
   "metadata": {},
   "outputs": [],
   "source": [
    "amzn_ticker = recent_news[recent_news['stock'] == 'AMZN']"
   ]
  },
  {
   "cell_type": "code",
   "execution_count": 236,
   "metadata": {},
   "outputs": [
    {
     "data": {
      "text/html": [
       "<div>\n",
       "<style scoped>\n",
       "    .dataframe tbody tr th:only-of-type {\n",
       "        vertical-align: middle;\n",
       "    }\n",
       "\n",
       "    .dataframe tbody tr th {\n",
       "        vertical-align: top;\n",
       "    }\n",
       "\n",
       "    .dataframe thead th {\n",
       "        text-align: right;\n",
       "    }\n",
       "</style>\n",
       "<table border=\"1\" class=\"dataframe\">\n",
       "  <thead>\n",
       "    <tr style=\"text-align: right;\">\n",
       "      <th></th>\n",
       "      <th>Unnamed: 0</th>\n",
       "      <th>headline</th>\n",
       "      <th>url</th>\n",
       "      <th>publisher</th>\n",
       "      <th>date</th>\n",
       "      <th>stock</th>\n",
       "    </tr>\n",
       "  </thead>\n",
       "  <tbody>\n",
       "    <tr>\n",
       "      <th>76177</th>\n",
       "      <td>76869</td>\n",
       "      <td>How Cannabis Company Cannaphyll Is Marketing O...</td>\n",
       "      <td>https://www.benzinga.com/markets/cannabis/20/0...</td>\n",
       "      <td>Jaycee Tenn</td>\n",
       "      <td>2020-06-10 13:18:50-04:00</td>\n",
       "      <td>AMZN</td>\n",
       "    </tr>\n",
       "    <tr>\n",
       "      <th>76178</th>\n",
       "      <td>76870</td>\n",
       "      <td>Tech Stocks And FAANGS Strong Again To Start D...</td>\n",
       "      <td>https://www.benzinga.com/government/20/06/1622...</td>\n",
       "      <td>JJ Kinahan</td>\n",
       "      <td>2020-06-10 11:33:26-04:00</td>\n",
       "      <td>AMZN</td>\n",
       "    </tr>\n",
       "    <tr>\n",
       "      <th>76179</th>\n",
       "      <td>76871</td>\n",
       "      <td>Benzinga Pro's Top 5 Stocks To Watch For Wed.,...</td>\n",
       "      <td>https://www.benzinga.com/short-sellers/20/06/1...</td>\n",
       "      <td>Benzinga Newsdesk</td>\n",
       "      <td>2020-06-10 07:53:47-04:00</td>\n",
       "      <td>AMZN</td>\n",
       "    </tr>\n",
       "    <tr>\n",
       "      <th>76180</th>\n",
       "      <td>76872</td>\n",
       "      <td>Hearing Vertical Group Out Positive On Amazon,...</td>\n",
       "      <td>https://www.benzinga.com/analyst-ratings/analy...</td>\n",
       "      <td>Benzinga Newsdesk</td>\n",
       "      <td>2020-06-10 07:20:03-04:00</td>\n",
       "      <td>AMZN</td>\n",
       "    </tr>\n",
       "    <tr>\n",
       "      <th>76181</th>\n",
       "      <td>76873</td>\n",
       "      <td>Big Tech Reaches New Record Heights At The Sto...</td>\n",
       "      <td>https://www.benzinga.com/news/20/06/16218615/b...</td>\n",
       "      <td>Neer Varshney</td>\n",
       "      <td>2020-06-10 00:52:01-04:00</td>\n",
       "      <td>AMZN</td>\n",
       "    </tr>\n",
       "  </tbody>\n",
       "</table>\n",
       "</div>"
      ],
      "text/plain": [
       "       Unnamed: 0                                           headline  \\\n",
       "76177       76869  How Cannabis Company Cannaphyll Is Marketing O...   \n",
       "76178       76870  Tech Stocks And FAANGS Strong Again To Start D...   \n",
       "76179       76871  Benzinga Pro's Top 5 Stocks To Watch For Wed.,...   \n",
       "76180       76872  Hearing Vertical Group Out Positive On Amazon,...   \n",
       "76181       76873  Big Tech Reaches New Record Heights At The Sto...   \n",
       "\n",
       "                                                     url          publisher  \\\n",
       "76177  https://www.benzinga.com/markets/cannabis/20/0...        Jaycee Tenn   \n",
       "76178  https://www.benzinga.com/government/20/06/1622...         JJ Kinahan   \n",
       "76179  https://www.benzinga.com/short-sellers/20/06/1...  Benzinga Newsdesk   \n",
       "76180  https://www.benzinga.com/analyst-ratings/analy...  Benzinga Newsdesk   \n",
       "76181  https://www.benzinga.com/news/20/06/16218615/b...      Neer Varshney   \n",
       "\n",
       "                            date stock  \n",
       "76177  2020-06-10 13:18:50-04:00  AMZN  \n",
       "76178  2020-06-10 11:33:26-04:00  AMZN  \n",
       "76179  2020-06-10 07:53:47-04:00  AMZN  \n",
       "76180  2020-06-10 07:20:03-04:00  AMZN  \n",
       "76181  2020-06-10 00:52:01-04:00  AMZN  "
      ]
     },
     "execution_count": 236,
     "metadata": {},
     "output_type": "execute_result"
    }
   ],
   "source": [
    "amzn_ticker.head()"
   ]
  },
  {
   "cell_type": "code",
   "execution_count": 237,
   "metadata": {},
   "outputs": [],
   "source": [
    "goog_ticker = recent_news[recent_news['stock'] == 'GOOG']"
   ]
  },
  {
   "cell_type": "code",
   "execution_count": 238,
   "metadata": {},
   "outputs": [],
   "source": [
    "nvda_ticker = recent_news[recent_news['stock'] == 'NVDA']"
   ]
  },
  {
   "cell_type": "code",
   "execution_count": 239,
   "metadata": {},
   "outputs": [],
   "source": [
    "tsla_ticker = recent_news[recent_news['stock'] == 'TSLA']"
   ]
  },
  {
   "cell_type": "code",
   "execution_count": 240,
   "metadata": {},
   "outputs": [
    {
     "data": {
      "text/html": [
       "<div>\n",
       "<style scoped>\n",
       "    .dataframe tbody tr th:only-of-type {\n",
       "        vertical-align: middle;\n",
       "    }\n",
       "\n",
       "    .dataframe tbody tr th {\n",
       "        vertical-align: top;\n",
       "    }\n",
       "\n",
       "    .dataframe thead th {\n",
       "        text-align: right;\n",
       "    }\n",
       "</style>\n",
       "<table border=\"1\" class=\"dataframe\">\n",
       "  <thead>\n",
       "    <tr style=\"text-align: right;\">\n",
       "      <th></th>\n",
       "      <th>Unnamed: 0</th>\n",
       "      <th>headline</th>\n",
       "      <th>url</th>\n",
       "      <th>publisher</th>\n",
       "      <th>date</th>\n",
       "      <th>stock</th>\n",
       "    </tr>\n",
       "  </thead>\n",
       "  <tbody>\n",
       "    <tr>\n",
       "      <th>1255221</th>\n",
       "      <td>1261140</td>\n",
       "      <td>Tesla's Stock Closes At All-Time High As Musk ...</td>\n",
       "      <td>https://www.benzinga.com/news/20/06/16225150/t...</td>\n",
       "      <td>Drew Levine</td>\n",
       "      <td>2020-06-10 17:02:47-04:00</td>\n",
       "      <td>TSLA</td>\n",
       "    </tr>\n",
       "    <tr>\n",
       "      <th>1255222</th>\n",
       "      <td>1261141</td>\n",
       "      <td>'Tesla factory workplace safety is 5% better t...</td>\n",
       "      <td>https://www.benzinga.com/news/20/06/16225621/t...</td>\n",
       "      <td>Benzinga Newsdesk</td>\n",
       "      <td>2020-06-10 15:08:09-04:00</td>\n",
       "      <td>TSLA</td>\n",
       "    </tr>\n",
       "    <tr>\n",
       "      <th>1255223</th>\n",
       "      <td>1261142</td>\n",
       "      <td>'Tesla hacker unlocks Performance upgrade and ...</td>\n",
       "      <td>https://www.benzinga.com/news/20/06/16224205/t...</td>\n",
       "      <td>Benzinga Newsdesk</td>\n",
       "      <td>2020-06-10 12:41:58-04:00</td>\n",
       "      <td>TSLA</td>\n",
       "    </tr>\n",
       "    <tr>\n",
       "      <th>1255224</th>\n",
       "      <td>1261143</td>\n",
       "      <td>GM On Track To Spend $20B On EV And AV Develop...</td>\n",
       "      <td>https://www.benzinga.com/news/20/06/16223414/g...</td>\n",
       "      <td>Benzinga Newsdesk</td>\n",
       "      <td>2020-06-10 11:33:18-04:00</td>\n",
       "      <td>TSLA</td>\n",
       "    </tr>\n",
       "    <tr>\n",
       "      <th>1255225</th>\n",
       "      <td>1261144</td>\n",
       "      <td>Tesla's Journey To $1,000 In 2020</td>\n",
       "      <td>https://www.benzinga.com/news/20/06/16222035/t...</td>\n",
       "      <td>Wayne Duggan</td>\n",
       "      <td>2020-06-10 10:15:07-04:00</td>\n",
       "      <td>TSLA</td>\n",
       "    </tr>\n",
       "  </tbody>\n",
       "</table>\n",
       "</div>"
      ],
      "text/plain": [
       "         Unnamed: 0                                           headline  \\\n",
       "1255221     1261140  Tesla's Stock Closes At All-Time High As Musk ...   \n",
       "1255222     1261141  'Tesla factory workplace safety is 5% better t...   \n",
       "1255223     1261142  'Tesla hacker unlocks Performance upgrade and ...   \n",
       "1255224     1261143  GM On Track To Spend $20B On EV And AV Develop...   \n",
       "1255225     1261144                  Tesla's Journey To $1,000 In 2020   \n",
       "\n",
       "                                                       url          publisher  \\\n",
       "1255221  https://www.benzinga.com/news/20/06/16225150/t...        Drew Levine   \n",
       "1255222  https://www.benzinga.com/news/20/06/16225621/t...  Benzinga Newsdesk   \n",
       "1255223  https://www.benzinga.com/news/20/06/16224205/t...  Benzinga Newsdesk   \n",
       "1255224  https://www.benzinga.com/news/20/06/16223414/g...  Benzinga Newsdesk   \n",
       "1255225  https://www.benzinga.com/news/20/06/16222035/t...       Wayne Duggan   \n",
       "\n",
       "                              date stock  \n",
       "1255221  2020-06-10 17:02:47-04:00  TSLA  \n",
       "1255222  2020-06-10 15:08:09-04:00  TSLA  \n",
       "1255223  2020-06-10 12:41:58-04:00  TSLA  \n",
       "1255224  2020-06-10 11:33:18-04:00  TSLA  \n",
       "1255225  2020-06-10 10:15:07-04:00  TSLA  "
      ]
     },
     "execution_count": 240,
     "metadata": {},
     "output_type": "execute_result"
    }
   ],
   "source": [
    "tsla_ticker.head()"
   ]
  },
  {
   "cell_type": "markdown",
   "metadata": {},
   "source": [
    "From the Eda analysis the MSFT and META Stock ticker absent from the data set given so I will continue with theabove 5 stock tickers"
   ]
  },
  {
   "cell_type": "code",
   "execution_count": 241,
   "metadata": {},
   "outputs": [],
   "source": [
    "apple_news = aapl_ticker[['headline', 'date']]\n",
    "amzn_news = amzn_ticker[['headline', 'date']]\n",
    "nvda_news = nvda_ticker[['headline', 'date']]\n",
    "tsla_news = tsla_ticker[['headline', 'date']]\n",
    "goog_news = goog_ticker[['headline', 'date']]"
   ]
  },
  {
   "cell_type": "code",
   "execution_count": 242,
   "metadata": {},
   "outputs": [
    {
     "name": "stdout",
     "output_type": "stream",
     "text": [
      "                                               headline  Sentiment\n",
      "6680  Tech Stocks And FAANGS Strong Again To Start D...   0.433333\n",
      "6681      10 Biggest Price Target Changes For Wednesday   0.000000\n",
      "6682  Benzinga Pro's Top 5 Stocks To Watch For Wed.,...   0.500000\n",
      "6683  Deutsche Bank Maintains Buy on Apple, Raises P...   0.000000\n",
      "6684  Apple To Let Users Trade In Their Mac Computer...   0.000000\n",
      "...                                                 ...        ...\n",
      "7116  UBS Maintains Buy on Apple, Lowers Price Targe...   0.000000\n",
      "7117                  123 Biggest Movers From Yesterday   0.000000\n",
      "7118  Crude Awakening: Energy Sector Takes A 20% Spi...  -0.466667\n",
      "7119     Investor Movement Index Summary: February 2020   0.000000\n",
      "7120      101 Stocks Moving In Monday's Mid-Day Session   0.000000\n",
      "\n",
      "[441 rows x 2 columns]\n"
     ]
    },
    {
     "name": "stderr",
     "output_type": "stream",
     "text": [
      "C:\\Users\\mama\\AppData\\Local\\Temp\\ipykernel_11164\\797895496.py:5: SettingWithCopyWarning: \n",
      "A value is trying to be set on a copy of a slice from a DataFrame.\n",
      "Try using .loc[row_indexer,col_indexer] = value instead\n",
      "\n",
      "See the caveats in the documentation: https://pandas.pydata.org/pandas-docs/stable/user_guide/indexing.html#returning-a-view-versus-a-copy\n",
      "  apple_news['Sentiment'] = apple_news['headline'].apply(calculate_sentiment)\n"
     ]
    }
   ],
   "source": [
    "def calculate_sentiment(text):\n",
    "    return TextBlob(text).sentiment.polarity\n",
    "\n",
    "# Applying the sentiment analysis function to your headlines\n",
    "apple_news['Sentiment'] = apple_news['headline'].apply(calculate_sentiment)\n",
    "\n",
    "print(apple_news[['headline', 'Sentiment']])"
   ]
  },
  {
   "cell_type": "markdown",
   "metadata": {},
   "source": [
    "Although the sentiment result has thousands of rows I can group by dates to calculate the mean sentiment score"
   ]
  },
  {
   "cell_type": "code",
   "execution_count": 243,
   "metadata": {},
   "outputs": [
    {
     "name": "stdout",
     "output_type": "stream",
     "text": [
      "                                                headline  Sentiment\n",
      "76177  How Cannabis Company Cannaphyll Is Marketing O...   0.000000\n",
      "76178  Tech Stocks And FAANGS Strong Again To Start D...   0.433333\n",
      "76179  Benzinga Pro's Top 5 Stocks To Watch For Wed.,...   0.500000\n",
      "76180  Hearing Vertical Group Out Positive On Amazon,...   0.227273\n",
      "76181  Big Tech Reaches New Record Heights At The Sto...   0.068182\n",
      "...                                                  ...        ...\n",
      "76450      3 Sector ETFs For This Week's Earnings Parade  -0.250000\n",
      "76451  Amazon Statement Shows Co. Extends Closure Of ...   0.000000\n",
      "76452  Will COVID-19 Accelerate The Adoption Of Auton...   0.400000\n",
      "76453  SunTrust Robinson Humphrey Maintains Buy on Am...   0.000000\n",
      "76454  Apple And Amazon Earnings, Fed Meeting Among H...   0.100000\n",
      "\n",
      "[278 rows x 2 columns]\n"
     ]
    },
    {
     "name": "stderr",
     "output_type": "stream",
     "text": [
      "C:\\Users\\mama\\AppData\\Local\\Temp\\ipykernel_11164\\2721012600.py:5: SettingWithCopyWarning: \n",
      "A value is trying to be set on a copy of a slice from a DataFrame.\n",
      "Try using .loc[row_indexer,col_indexer] = value instead\n",
      "\n",
      "See the caveats in the documentation: https://pandas.pydata.org/pandas-docs/stable/user_guide/indexing.html#returning-a-view-versus-a-copy\n",
      "  amzn_news['Sentiment'] = amzn_news['headline'].apply(calculate_sentiment)\n"
     ]
    }
   ],
   "source": [
    "def calculate_sentiment(text):\n",
    "    return TextBlob(text).sentiment.polarity\n",
    "\n",
    "# Applying the sentiment analysis function to your headlines\n",
    "amzn_news['Sentiment'] = amzn_news['headline'].apply(calculate_sentiment)\n",
    "\n",
    "print(amzn_news[['headline', 'Sentiment']])"
   ]
  },
  {
   "cell_type": "code",
   "execution_count": 244,
   "metadata": {},
   "outputs": [
    {
     "name": "stdout",
     "output_type": "stream",
     "text": [
      "                                                 headline  Sentiment\n",
      "565380  Facebook, Snap Analyst Projects Q2 Revenue Ups...   0.033333\n",
      "565381  How Cannabis Company Cannaphyll Is Marketing O...   0.000000\n",
      "565382  Twitter, Square Will Mark Juneteenth As Holida...   0.000000\n",
      "565383             Price Over Earnings Overview: Alphabet   0.000000\n",
      "565384  Google Maps To Offer Relevant Local COVID-19 I...   0.133333\n",
      "...                                                   ...        ...\n",
      "565814  Pivotal Research Upgrades Alphabet to Buy, Rai...   0.500000\n",
      "565815  '@Xiaomi said Friday it had fixed a bug and co...  -0.056250\n",
      "565816  17 Communication Services Stocks Moving In Fri...   0.000000\n",
      "565817  12 Stocks That Have Been The World's Most Valu...   0.500000\n",
      "565818  Google Says Its AI Sometimes Outperforms Human...   0.000000\n",
      "\n",
      "[439 rows x 2 columns]\n"
     ]
    },
    {
     "name": "stderr",
     "output_type": "stream",
     "text": [
      "C:\\Users\\mama\\AppData\\Local\\Temp\\ipykernel_11164\\1446920674.py:5: SettingWithCopyWarning: \n",
      "A value is trying to be set on a copy of a slice from a DataFrame.\n",
      "Try using .loc[row_indexer,col_indexer] = value instead\n",
      "\n",
      "See the caveats in the documentation: https://pandas.pydata.org/pandas-docs/stable/user_guide/indexing.html#returning-a-view-versus-a-copy\n",
      "  goog_news['Sentiment'] = goog_news['headline'].apply(calculate_sentiment)\n"
     ]
    }
   ],
   "source": [
    "def calculate_sentiment(text):\n",
    "    return TextBlob(text).sentiment.polarity\n",
    "\n",
    "# Applying the sentiment analysis function to your headlines\n",
    "goog_news['Sentiment'] = goog_news['headline'].apply(calculate_sentiment)\n",
    "\n",
    "print(goog_news[['headline', 'Sentiment']])"
   ]
  },
  {
   "cell_type": "code",
   "execution_count": 245,
   "metadata": {},
   "outputs": [
    {
     "name": "stdout",
     "output_type": "stream",
     "text": [
      "                                                 headline  Sentiment\n",
      "924271  Shares of several technology companies are tra...    0.08125\n",
      "924272                Afternoon Market Stats in 5 Minutes    0.00000\n",
      "924273                  Morning Market Stats in 5 Minutes    0.00000\n",
      "924274  Shares of several technology companies are tra...    0.26250\n",
      "924275                Afternoon Market Stats in 5 Minutes    0.00000\n",
      "...                                                   ...        ...\n",
      "924575          Stocks That Hit 52-Week Highs On Thursday    0.00000\n",
      "924576  Sony, Nvidia, Uber Introduce Electric, Autonom...    0.40000\n",
      "924577  12 Technology Stocks Moving In Monday's Pre-Ma...    0.00000\n",
      "924578  22 Technology Stocks Moving In Friday's Pre-Ma...    0.00000\n",
      "924579  24 Technology Stocks Moving In Thursday's Pre-...    0.00000\n",
      "\n",
      "[309 rows x 2 columns]\n"
     ]
    },
    {
     "name": "stderr",
     "output_type": "stream",
     "text": [
      "C:\\Users\\mama\\AppData\\Local\\Temp\\ipykernel_11164\\3367527581.py:5: SettingWithCopyWarning: \n",
      "A value is trying to be set on a copy of a slice from a DataFrame.\n",
      "Try using .loc[row_indexer,col_indexer] = value instead\n",
      "\n",
      "See the caveats in the documentation: https://pandas.pydata.org/pandas-docs/stable/user_guide/indexing.html#returning-a-view-versus-a-copy\n",
      "  nvda_news['Sentiment'] = nvda_news['headline'].apply(calculate_sentiment)\n"
     ]
    }
   ],
   "source": [
    "def calculate_sentiment(text):\n",
    "    return TextBlob(text).sentiment.polarity\n",
    "\n",
    "# Applying the sentiment analysis function to your headlines\n",
    "nvda_news['Sentiment'] = nvda_news['headline'].apply(calculate_sentiment)\n",
    "\n",
    "print(nvda_news[['headline', 'Sentiment']])"
   ]
  },
  {
   "cell_type": "code",
   "execution_count": 246,
   "metadata": {},
   "outputs": [
    {
     "name": "stdout",
     "output_type": "stream",
     "text": [
      "                                                  headline  Sentiment\n",
      "1255221  Tesla's Stock Closes At All-Time High As Musk ...   0.193636\n",
      "1255222  'Tesla factory workplace safety is 5% better t...   0.183333\n",
      "1255223  'Tesla hacker unlocks Performance upgrade and ...   0.000000\n",
      "1255224  GM On Track To Spend $20B On EV And AV Develop...   0.000000\n",
      "1255225                  Tesla's Journey To $1,000 In 2020   0.000000\n",
      "...                                                    ...        ...\n",
      "1256358  Canaccord Genuity Maintains Buy on Tesla, Rais...   0.000000\n",
      "1256359  10 Consumer Cyclical Stocks Moving In Thursday...   0.000000\n",
      "1256360  10 Consumer Cyclical Stocks Moving In Thursday...   0.000000\n",
      "1256361  Hearing Canaccord Genuity Raised Tesla Price T...   0.000000\n",
      "1256362  Tesla Says will Deliver Second Batch of China-...   0.000000\n",
      "\n",
      "[1142 rows x 2 columns]\n"
     ]
    },
    {
     "name": "stderr",
     "output_type": "stream",
     "text": [
      "C:\\Users\\mama\\AppData\\Local\\Temp\\ipykernel_11164\\84344209.py:5: SettingWithCopyWarning: \n",
      "A value is trying to be set on a copy of a slice from a DataFrame.\n",
      "Try using .loc[row_indexer,col_indexer] = value instead\n",
      "\n",
      "See the caveats in the documentation: https://pandas.pydata.org/pandas-docs/stable/user_guide/indexing.html#returning-a-view-versus-a-copy\n",
      "  tsla_news['Sentiment'] = tsla_news['headline'].apply(calculate_sentiment)\n"
     ]
    }
   ],
   "source": [
    "def calculate_sentiment(text):\n",
    "    return TextBlob(text).sentiment.polarity\n",
    "\n",
    "# Applying the sentiment analysis function to your headlines\n",
    "tsla_news['Sentiment'] = tsla_news['headline'].apply(calculate_sentiment)\n",
    "\n",
    "print(tsla_news[['headline', 'Sentiment']])"
   ]
  },
  {
   "cell_type": "code",
   "execution_count": 252,
   "metadata": {},
   "outputs": [
    {
     "data": {
      "text/html": [
       "<div>\n",
       "<style scoped>\n",
       "    .dataframe tbody tr th:only-of-type {\n",
       "        vertical-align: middle;\n",
       "    }\n",
       "\n",
       "    .dataframe tbody tr th {\n",
       "        vertical-align: top;\n",
       "    }\n",
       "\n",
       "    .dataframe thead th {\n",
       "        text-align: right;\n",
       "    }\n",
       "</style>\n",
       "<table border=\"1\" class=\"dataframe\">\n",
       "  <thead>\n",
       "    <tr style=\"text-align: right;\">\n",
       "      <th></th>\n",
       "      <th>Sentiment</th>\n",
       "      <th>Close</th>\n",
       "    </tr>\n",
       "    <tr>\n",
       "      <th>date</th>\n",
       "      <th></th>\n",
       "      <th></th>\n",
       "    </tr>\n",
       "  </thead>\n",
       "  <tbody>\n",
       "    <tr>\n",
       "      <th>2020-03-09 00:00:00</th>\n",
       "      <td>-0.155556</td>\n",
       "      <td>NaN</td>\n",
       "    </tr>\n",
       "    <tr>\n",
       "      <th>2020-03-10 00:00:00</th>\n",
       "      <td>0.021708</td>\n",
       "      <td>NaN</td>\n",
       "    </tr>\n",
       "    <tr>\n",
       "      <th>2020-03-11 00:00:00</th>\n",
       "      <td>0.018624</td>\n",
       "      <td>NaN</td>\n",
       "    </tr>\n",
       "    <tr>\n",
       "      <th>2020-03-12 00:00:00</th>\n",
       "      <td>-0.083048</td>\n",
       "      <td>NaN</td>\n",
       "    </tr>\n",
       "    <tr>\n",
       "      <th>2020-03-13 00:00:00</th>\n",
       "      <td>0.069215</td>\n",
       "      <td>NaN</td>\n",
       "    </tr>\n",
       "  </tbody>\n",
       "</table>\n",
       "</div>"
      ],
      "text/plain": [
       "                     Sentiment  Close\n",
       "date                                 \n",
       "2020-03-09 00:00:00  -0.155556    NaN\n",
       "2020-03-10 00:00:00   0.021708    NaN\n",
       "2020-03-11 00:00:00   0.018624    NaN\n",
       "2020-03-12 00:00:00  -0.083048    NaN\n",
       "2020-03-13 00:00:00   0.069215    NaN"
      ]
     },
     "execution_count": 252,
     "metadata": {},
     "output_type": "execute_result"
    }
   ],
   "source": [
    "\n",
    "combined_dataA = apple_news.set_index('date').join(Apple['Close'])\n",
    "combined_data.head()"
   ]
  },
  {
   "cell_type": "code",
   "execution_count": 251,
   "metadata": {},
   "outputs": [
    {
     "name": "stdout",
     "output_type": "stream",
     "text": [
      "Correlation between sentiment and close of Apple: nan\n"
     ]
    }
   ],
   "source": [
    "correlationA = combined_data['Sentiment'].corr(combined_data['Close'])\n",
    "print(\"Correlation between sentiment and close of Apple:\", correlation)"
   ]
  },
  {
   "cell_type": "code",
   "execution_count": 256,
   "metadata": {},
   "outputs": [],
   "source": [
    "Amzn= pd.read_csv('AMZN_historical_data.csv')"
   ]
  },
  {
   "cell_type": "code",
   "execution_count": 257,
   "metadata": {},
   "outputs": [
    {
     "data": {
      "text/html": [
       "<div>\n",
       "<style scoped>\n",
       "    .dataframe tbody tr th:only-of-type {\n",
       "        vertical-align: middle;\n",
       "    }\n",
       "\n",
       "    .dataframe tbody tr th {\n",
       "        vertical-align: top;\n",
       "    }\n",
       "\n",
       "    .dataframe thead th {\n",
       "        text-align: right;\n",
       "    }\n",
       "</style>\n",
       "<table border=\"1\" class=\"dataframe\">\n",
       "  <thead>\n",
       "    <tr style=\"text-align: right;\">\n",
       "      <th></th>\n",
       "      <th>Date</th>\n",
       "      <th>Open</th>\n",
       "      <th>High</th>\n",
       "      <th>Low</th>\n",
       "      <th>Close</th>\n",
       "      <th>Adj Close</th>\n",
       "      <th>Volume</th>\n",
       "      <th>Dividends</th>\n",
       "      <th>Stock Splits</th>\n",
       "    </tr>\n",
       "  </thead>\n",
       "  <tbody>\n",
       "    <tr>\n",
       "      <th>0</th>\n",
       "      <td>1997-05-15</td>\n",
       "      <td>0.121875</td>\n",
       "      <td>0.125000</td>\n",
       "      <td>0.096354</td>\n",
       "      <td>0.097917</td>\n",
       "      <td>0.097917</td>\n",
       "      <td>1443120000</td>\n",
       "      <td>0.0</td>\n",
       "      <td>0.0</td>\n",
       "    </tr>\n",
       "    <tr>\n",
       "      <th>1</th>\n",
       "      <td>1997-05-16</td>\n",
       "      <td>0.098438</td>\n",
       "      <td>0.098958</td>\n",
       "      <td>0.085417</td>\n",
       "      <td>0.086458</td>\n",
       "      <td>0.086458</td>\n",
       "      <td>294000000</td>\n",
       "      <td>0.0</td>\n",
       "      <td>0.0</td>\n",
       "    </tr>\n",
       "    <tr>\n",
       "      <th>2</th>\n",
       "      <td>1997-05-19</td>\n",
       "      <td>0.088021</td>\n",
       "      <td>0.088542</td>\n",
       "      <td>0.081250</td>\n",
       "      <td>0.085417</td>\n",
       "      <td>0.085417</td>\n",
       "      <td>122136000</td>\n",
       "      <td>0.0</td>\n",
       "      <td>0.0</td>\n",
       "    </tr>\n",
       "    <tr>\n",
       "      <th>3</th>\n",
       "      <td>1997-05-20</td>\n",
       "      <td>0.086458</td>\n",
       "      <td>0.087500</td>\n",
       "      <td>0.081771</td>\n",
       "      <td>0.081771</td>\n",
       "      <td>0.081771</td>\n",
       "      <td>109344000</td>\n",
       "      <td>0.0</td>\n",
       "      <td>0.0</td>\n",
       "    </tr>\n",
       "    <tr>\n",
       "      <th>4</th>\n",
       "      <td>1997-05-21</td>\n",
       "      <td>0.081771</td>\n",
       "      <td>0.082292</td>\n",
       "      <td>0.068750</td>\n",
       "      <td>0.071354</td>\n",
       "      <td>0.071354</td>\n",
       "      <td>377064000</td>\n",
       "      <td>0.0</td>\n",
       "      <td>0.0</td>\n",
       "    </tr>\n",
       "  </tbody>\n",
       "</table>\n",
       "</div>"
      ],
      "text/plain": [
       "         Date      Open      High       Low     Close  Adj Close      Volume  \\\n",
       "0  1997-05-15  0.121875  0.125000  0.096354  0.097917   0.097917  1443120000   \n",
       "1  1997-05-16  0.098438  0.098958  0.085417  0.086458   0.086458   294000000   \n",
       "2  1997-05-19  0.088021  0.088542  0.081250  0.085417   0.085417   122136000   \n",
       "3  1997-05-20  0.086458  0.087500  0.081771  0.081771   0.081771   109344000   \n",
       "4  1997-05-21  0.081771  0.082292  0.068750  0.071354   0.071354   377064000   \n",
       "\n",
       "   Dividends  Stock Splits  \n",
       "0        0.0           0.0  \n",
       "1        0.0           0.0  \n",
       "2        0.0           0.0  \n",
       "3        0.0           0.0  \n",
       "4        0.0           0.0  "
      ]
     },
     "execution_count": 257,
     "metadata": {},
     "output_type": "execute_result"
    }
   ],
   "source": [
    "Amzn.he"
   ]
  },
  {
   "cell_type": "code",
   "execution_count": 260,
   "metadata": {},
   "outputs": [],
   "source": [
    "Amzn.rename(columns={'Date': 'date'}, inplace=True)"
   ]
  },
  {
   "cell_type": "code",
   "execution_count": 261,
   "metadata": {},
   "outputs": [
    {
     "data": {
      "text/html": [
       "<div>\n",
       "<style scoped>\n",
       "    .dataframe tbody tr th:only-of-type {\n",
       "        vertical-align: middle;\n",
       "    }\n",
       "\n",
       "    .dataframe tbody tr th {\n",
       "        vertical-align: top;\n",
       "    }\n",
       "\n",
       "    .dataframe thead th {\n",
       "        text-align: right;\n",
       "    }\n",
       "</style>\n",
       "<table border=\"1\" class=\"dataframe\">\n",
       "  <thead>\n",
       "    <tr style=\"text-align: right;\">\n",
       "      <th></th>\n",
       "      <th>date</th>\n",
       "      <th>Open</th>\n",
       "      <th>High</th>\n",
       "      <th>Low</th>\n",
       "      <th>Close</th>\n",
       "      <th>Adj Close</th>\n",
       "      <th>Volume</th>\n",
       "      <th>Dividends</th>\n",
       "      <th>Stock Splits</th>\n",
       "    </tr>\n",
       "  </thead>\n",
       "  <tbody>\n",
       "    <tr>\n",
       "      <th>0</th>\n",
       "      <td>1997-05-15</td>\n",
       "      <td>0.121875</td>\n",
       "      <td>0.125000</td>\n",
       "      <td>0.096354</td>\n",
       "      <td>0.097917</td>\n",
       "      <td>0.097917</td>\n",
       "      <td>1443120000</td>\n",
       "      <td>0.0</td>\n",
       "      <td>0.0</td>\n",
       "    </tr>\n",
       "    <tr>\n",
       "      <th>1</th>\n",
       "      <td>1997-05-16</td>\n",
       "      <td>0.098438</td>\n",
       "      <td>0.098958</td>\n",
       "      <td>0.085417</td>\n",
       "      <td>0.086458</td>\n",
       "      <td>0.086458</td>\n",
       "      <td>294000000</td>\n",
       "      <td>0.0</td>\n",
       "      <td>0.0</td>\n",
       "    </tr>\n",
       "    <tr>\n",
       "      <th>2</th>\n",
       "      <td>1997-05-19</td>\n",
       "      <td>0.088021</td>\n",
       "      <td>0.088542</td>\n",
       "      <td>0.081250</td>\n",
       "      <td>0.085417</td>\n",
       "      <td>0.085417</td>\n",
       "      <td>122136000</td>\n",
       "      <td>0.0</td>\n",
       "      <td>0.0</td>\n",
       "    </tr>\n",
       "    <tr>\n",
       "      <th>3</th>\n",
       "      <td>1997-05-20</td>\n",
       "      <td>0.086458</td>\n",
       "      <td>0.087500</td>\n",
       "      <td>0.081771</td>\n",
       "      <td>0.081771</td>\n",
       "      <td>0.081771</td>\n",
       "      <td>109344000</td>\n",
       "      <td>0.0</td>\n",
       "      <td>0.0</td>\n",
       "    </tr>\n",
       "    <tr>\n",
       "      <th>4</th>\n",
       "      <td>1997-05-21</td>\n",
       "      <td>0.081771</td>\n",
       "      <td>0.082292</td>\n",
       "      <td>0.068750</td>\n",
       "      <td>0.071354</td>\n",
       "      <td>0.071354</td>\n",
       "      <td>377064000</td>\n",
       "      <td>0.0</td>\n",
       "      <td>0.0</td>\n",
       "    </tr>\n",
       "  </tbody>\n",
       "</table>\n",
       "</div>"
      ],
      "text/plain": [
       "         date      Open      High       Low     Close  Adj Close      Volume  \\\n",
       "0  1997-05-15  0.121875  0.125000  0.096354  0.097917   0.097917  1443120000   \n",
       "1  1997-05-16  0.098438  0.098958  0.085417  0.086458   0.086458   294000000   \n",
       "2  1997-05-19  0.088021  0.088542  0.081250  0.085417   0.085417   122136000   \n",
       "3  1997-05-20  0.086458  0.087500  0.081771  0.081771   0.081771   109344000   \n",
       "4  1997-05-21  0.081771  0.082292  0.068750  0.071354   0.071354   377064000   \n",
       "\n",
       "   Dividends  Stock Splits  \n",
       "0        0.0           0.0  \n",
       "1        0.0           0.0  \n",
       "2        0.0           0.0  \n",
       "3        0.0           0.0  \n",
       "4        0.0           0.0  "
      ]
     },
     "execution_count": 261,
     "metadata": {},
     "output_type": "execute_result"
    }
   ],
   "source": [
    "Amzn.head()"
   ]
  },
  {
   "cell_type": "code",
   "execution_count": 262,
   "metadata": {},
   "outputs": [
    {
     "data": {
      "text/html": [
       "<div>\n",
       "<style scoped>\n",
       "    .dataframe tbody tr th:only-of-type {\n",
       "        vertical-align: middle;\n",
       "    }\n",
       "\n",
       "    .dataframe tbody tr th {\n",
       "        vertical-align: top;\n",
       "    }\n",
       "\n",
       "    .dataframe thead th {\n",
       "        text-align: right;\n",
       "    }\n",
       "</style>\n",
       "<table border=\"1\" class=\"dataframe\">\n",
       "  <thead>\n",
       "    <tr style=\"text-align: right;\">\n",
       "      <th></th>\n",
       "      <th>headline</th>\n",
       "      <th>Sentiment</th>\n",
       "      <th>Close</th>\n",
       "    </tr>\n",
       "    <tr>\n",
       "      <th>date</th>\n",
       "      <th></th>\n",
       "      <th></th>\n",
       "      <th></th>\n",
       "    </tr>\n",
       "  </thead>\n",
       "  <tbody>\n",
       "    <tr>\n",
       "      <th>2020-06-10 13:18:50-04:00</th>\n",
       "      <td>How Cannabis Company Cannaphyll Is Marketing O...</td>\n",
       "      <td>0.000000</td>\n",
       "      <td>NaN</td>\n",
       "    </tr>\n",
       "    <tr>\n",
       "      <th>2020-06-10 11:33:26-04:00</th>\n",
       "      <td>Tech Stocks And FAANGS Strong Again To Start D...</td>\n",
       "      <td>0.433333</td>\n",
       "      <td>NaN</td>\n",
       "    </tr>\n",
       "    <tr>\n",
       "      <th>2020-06-10 07:53:47-04:00</th>\n",
       "      <td>Benzinga Pro's Top 5 Stocks To Watch For Wed.,...</td>\n",
       "      <td>0.500000</td>\n",
       "      <td>NaN</td>\n",
       "    </tr>\n",
       "    <tr>\n",
       "      <th>2020-06-10 07:20:03-04:00</th>\n",
       "      <td>Hearing Vertical Group Out Positive On Amazon,...</td>\n",
       "      <td>0.227273</td>\n",
       "      <td>NaN</td>\n",
       "    </tr>\n",
       "    <tr>\n",
       "      <th>2020-06-10 00:52:01-04:00</th>\n",
       "      <td>Big Tech Reaches New Record Heights At The Sto...</td>\n",
       "      <td>0.068182</td>\n",
       "      <td>NaN</td>\n",
       "    </tr>\n",
       "    <tr>\n",
       "      <th>...</th>\n",
       "      <td>...</td>\n",
       "      <td>...</td>\n",
       "      <td>...</td>\n",
       "    </tr>\n",
       "    <tr>\n",
       "      <th>2020-04-27 00:00:00</th>\n",
       "      <td>3 Sector ETFs For This Week's Earnings Parade</td>\n",
       "      <td>-0.250000</td>\n",
       "      <td>NaN</td>\n",
       "    </tr>\n",
       "    <tr>\n",
       "      <th>2020-04-27 00:00:00</th>\n",
       "      <td>Amazon Statement Shows Co. Extends Closure Of ...</td>\n",
       "      <td>0.000000</td>\n",
       "      <td>NaN</td>\n",
       "    </tr>\n",
       "    <tr>\n",
       "      <th>2020-04-27 00:00:00</th>\n",
       "      <td>Will COVID-19 Accelerate The Adoption Of Auton...</td>\n",
       "      <td>0.400000</td>\n",
       "      <td>NaN</td>\n",
       "    </tr>\n",
       "    <tr>\n",
       "      <th>2020-04-27 00:00:00</th>\n",
       "      <td>SunTrust Robinson Humphrey Maintains Buy on Am...</td>\n",
       "      <td>0.000000</td>\n",
       "      <td>NaN</td>\n",
       "    </tr>\n",
       "    <tr>\n",
       "      <th>2020-04-27 00:00:00</th>\n",
       "      <td>Apple And Amazon Earnings, Fed Meeting Among H...</td>\n",
       "      <td>0.100000</td>\n",
       "      <td>NaN</td>\n",
       "    </tr>\n",
       "  </tbody>\n",
       "</table>\n",
       "<p>278 rows × 3 columns</p>\n",
       "</div>"
      ],
      "text/plain": [
       "                                                                    headline  \\\n",
       "date                                                                           \n",
       "2020-06-10 13:18:50-04:00  How Cannabis Company Cannaphyll Is Marketing O...   \n",
       "2020-06-10 11:33:26-04:00  Tech Stocks And FAANGS Strong Again To Start D...   \n",
       "2020-06-10 07:53:47-04:00  Benzinga Pro's Top 5 Stocks To Watch For Wed.,...   \n",
       "2020-06-10 07:20:03-04:00  Hearing Vertical Group Out Positive On Amazon,...   \n",
       "2020-06-10 00:52:01-04:00  Big Tech Reaches New Record Heights At The Sto...   \n",
       "...                                                                      ...   \n",
       "2020-04-27 00:00:00            3 Sector ETFs For This Week's Earnings Parade   \n",
       "2020-04-27 00:00:00        Amazon Statement Shows Co. Extends Closure Of ...   \n",
       "2020-04-27 00:00:00        Will COVID-19 Accelerate The Adoption Of Auton...   \n",
       "2020-04-27 00:00:00        SunTrust Robinson Humphrey Maintains Buy on Am...   \n",
       "2020-04-27 00:00:00        Apple And Amazon Earnings, Fed Meeting Among H...   \n",
       "\n",
       "                           Sentiment  Close  \n",
       "date                                         \n",
       "2020-06-10 13:18:50-04:00   0.000000    NaN  \n",
       "2020-06-10 11:33:26-04:00   0.433333    NaN  \n",
       "2020-06-10 07:53:47-04:00   0.500000    NaN  \n",
       "2020-06-10 07:20:03-04:00   0.227273    NaN  \n",
       "2020-06-10 00:52:01-04:00   0.068182    NaN  \n",
       "...                              ...    ...  \n",
       "2020-04-27 00:00:00        -0.250000    NaN  \n",
       "2020-04-27 00:00:00         0.000000    NaN  \n",
       "2020-04-27 00:00:00         0.400000    NaN  \n",
       "2020-04-27 00:00:00         0.000000    NaN  \n",
       "2020-04-27 00:00:00         0.100000    NaN  \n",
       "\n",
       "[278 rows x 3 columns]"
      ]
     },
     "execution_count": 262,
     "metadata": {},
     "output_type": "execute_result"
    }
   ],
   "source": [
    "\n",
    "combined_dataAm = amzn_news.set_index('date').join(Amzn['Close'])\n",
    "combined_dataAm"
   ]
  },
  {
   "cell_type": "code",
   "execution_count": 263,
   "metadata": {},
   "outputs": [
    {
     "name": "stdout",
     "output_type": "stream",
     "text": [
      "Correlation between sentiment and close of Amazon: nan\n"
     ]
    }
   ],
   "source": [
    "correlationAm = combined_dataAm['Sentiment'].corr(combined_dataAm['Close'])\n",
    "print(\"Correlation between sentiment and close of Amazon:\", correlationAm)"
   ]
  },
  {
   "cell_type": "code",
   "execution_count": 264,
   "metadata": {},
   "outputs": [],
   "source": [
    "Goog = pd.read_csv('GOOG_historical_data.csv')\n"
   ]
  },
  {
   "cell_type": "code",
   "execution_count": 265,
   "metadata": {},
   "outputs": [],
   "source": [
    "Goog.rename(columns={'Date': 'date'}, inplace=True)"
   ]
  },
  {
   "cell_type": "code",
   "execution_count": 266,
   "metadata": {},
   "outputs": [
    {
     "data": {
      "text/html": [
       "<div>\n",
       "<style scoped>\n",
       "    .dataframe tbody tr th:only-of-type {\n",
       "        vertical-align: middle;\n",
       "    }\n",
       "\n",
       "    .dataframe tbody tr th {\n",
       "        vertical-align: top;\n",
       "    }\n",
       "\n",
       "    .dataframe thead th {\n",
       "        text-align: right;\n",
       "    }\n",
       "</style>\n",
       "<table border=\"1\" class=\"dataframe\">\n",
       "  <thead>\n",
       "    <tr style=\"text-align: right;\">\n",
       "      <th></th>\n",
       "      <th>headline</th>\n",
       "      <th>Sentiment</th>\n",
       "      <th>Close</th>\n",
       "    </tr>\n",
       "    <tr>\n",
       "      <th>date</th>\n",
       "      <th></th>\n",
       "      <th></th>\n",
       "      <th></th>\n",
       "    </tr>\n",
       "  </thead>\n",
       "  <tbody>\n",
       "    <tr>\n",
       "      <th>2020-06-10 15:25:13-04:00</th>\n",
       "      <td>Facebook, Snap Analyst Projects Q2 Revenue Ups...</td>\n",
       "      <td>0.033333</td>\n",
       "      <td>NaN</td>\n",
       "    </tr>\n",
       "    <tr>\n",
       "      <th>2020-06-10 13:18:50-04:00</th>\n",
       "      <td>How Cannabis Company Cannaphyll Is Marketing O...</td>\n",
       "      <td>0.000000</td>\n",
       "      <td>NaN</td>\n",
       "    </tr>\n",
       "    <tr>\n",
       "      <th>2020-06-10 00:28:00-04:00</th>\n",
       "      <td>Twitter, Square Will Mark Juneteenth As Holida...</td>\n",
       "      <td>0.000000</td>\n",
       "      <td>NaN</td>\n",
       "    </tr>\n",
       "    <tr>\n",
       "      <th>2020-06-09 14:39:26-04:00</th>\n",
       "      <td>Price Over Earnings Overview: Alphabet</td>\n",
       "      <td>0.000000</td>\n",
       "      <td>NaN</td>\n",
       "    </tr>\n",
       "    <tr>\n",
       "      <th>2020-06-09 03:51:41-04:00</th>\n",
       "      <td>Google Maps To Offer Relevant Local COVID-19 I...</td>\n",
       "      <td>0.133333</td>\n",
       "      <td>NaN</td>\n",
       "    </tr>\n",
       "  </tbody>\n",
       "</table>\n",
       "</div>"
      ],
      "text/plain": [
       "                                                                    headline  \\\n",
       "date                                                                           \n",
       "2020-06-10 15:25:13-04:00  Facebook, Snap Analyst Projects Q2 Revenue Ups...   \n",
       "2020-06-10 13:18:50-04:00  How Cannabis Company Cannaphyll Is Marketing O...   \n",
       "2020-06-10 00:28:00-04:00  Twitter, Square Will Mark Juneteenth As Holida...   \n",
       "2020-06-09 14:39:26-04:00             Price Over Earnings Overview: Alphabet   \n",
       "2020-06-09 03:51:41-04:00  Google Maps To Offer Relevant Local COVID-19 I...   \n",
       "\n",
       "                           Sentiment  Close  \n",
       "date                                         \n",
       "2020-06-10 15:25:13-04:00   0.033333    NaN  \n",
       "2020-06-10 13:18:50-04:00   0.000000    NaN  \n",
       "2020-06-10 00:28:00-04:00   0.000000    NaN  \n",
       "2020-06-09 14:39:26-04:00   0.000000    NaN  \n",
       "2020-06-09 03:51:41-04:00   0.133333    NaN  "
      ]
     },
     "execution_count": 266,
     "metadata": {},
     "output_type": "execute_result"
    }
   ],
   "source": [
    "combined_datag = goog_news.set_index('date').join(Goog['Close'])\n",
    "combined_datag.head()"
   ]
  },
  {
   "cell_type": "code",
   "execution_count": 267,
   "metadata": {},
   "outputs": [
    {
     "name": "stdout",
     "output_type": "stream",
     "text": [
      "Correlation between sentiment and close of Google: nan\n"
     ]
    }
   ],
   "source": [
    "correlationg = combined_datag['Sentiment'].corr(combined_datag['Close'])\n",
    "print(\"Correlation between sentiment and close of Google:\", correlationAm)"
   ]
  },
  {
   "cell_type": "code",
   "execution_count": null,
   "metadata": {},
   "outputs": [],
   "source": []
  }
 ],
 "metadata": {
  "kernelspec": {
   "display_name": "Python 3.12.4 ('.venv': venv)",
   "language": "python",
   "name": "python3"
  },
  "language_info": {
   "codemirror_mode": {
    "name": "ipython",
    "version": 3
   },
   "file_extension": ".py",
   "mimetype": "text/x-python",
   "name": "python",
   "nbconvert_exporter": "python",
   "pygments_lexer": "ipython3",
   "version": "3.12.4"
  },
  "orig_nbformat": 4,
  "vscode": {
   "interpreter": {
    "hash": "4b665e8d54755420553c7c6eadedfaa47949b542ea4905a7c87686ea56dd7282"
   }
  }
 },
 "nbformat": 4,
 "nbformat_minor": 2
}
